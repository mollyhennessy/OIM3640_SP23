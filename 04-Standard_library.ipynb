{
 "cells": [
  {
   "cell_type": "markdown",
   "id": "3e3d3221",
   "metadata": {},
   "source": [
    "# Selected Modules from Standard Library"
   ]
  },
  {
   "cell_type": "markdown",
   "id": "8cf109a7",
   "metadata": {},
   "source": [
    "### [The Standard Library](https://docs.python.org/3/library/)\n",
    "* Python is large and we don't use all of it \n",
    "* Instead of making *all* capabilities available a minimum is loaded \n",
    "* We can extend the capabilities as needed by \"importing\" extensions\n",
    "* Be careful not to name your .py files after a module, i.e. numbers\n",
    "* math, random, time, datetime"
   ]
  },
  {
   "cell_type": "markdown",
   "id": "0b570d19",
   "metadata": {},
   "source": [
    "### time"
   ]
  },
  {
   "cell_type": "code",
   "execution_count": 2,
   "id": "3ca38897",
   "metadata": {},
   "outputs": [],
   "source": [
    "import time"
   ]
  },
  {
   "cell_type": "code",
   "execution_count": 4,
   "id": "3d4005eb",
   "metadata": {},
   "outputs": [
    {
     "data": {
      "text/plain": [
       "['_STRUCT_TM_ITEMS',\n",
       " '__doc__',\n",
       " '__loader__',\n",
       " '__name__',\n",
       " '__package__',\n",
       " '__spec__',\n",
       " 'altzone',\n",
       " 'asctime',\n",
       " 'ctime',\n",
       " 'daylight',\n",
       " 'get_clock_info',\n",
       " 'gmtime',\n",
       " 'localtime',\n",
       " 'mktime',\n",
       " 'monotonic',\n",
       " 'monotonic_ns',\n",
       " 'perf_counter',\n",
       " 'perf_counter_ns',\n",
       " 'process_time',\n",
       " 'process_time_ns',\n",
       " 'sleep',\n",
       " 'strftime',\n",
       " 'strptime',\n",
       " 'struct_time',\n",
       " 'thread_time',\n",
       " 'thread_time_ns',\n",
       " 'time',\n",
       " 'time_ns',\n",
       " 'timezone',\n",
       " 'tzname']"
      ]
     },
     "execution_count": 4,
     "metadata": {},
     "output_type": "execute_result"
    }
   ],
   "source": [
    "dir(time)"
   ]
  },
  {
   "cell_type": "code",
   "execution_count": 15,
   "id": "bd48fd5f",
   "metadata": {},
   "outputs": [],
   "source": [
    "from time import time, sleep"
   ]
  },
  {
   "cell_type": "code",
   "execution_count": 17,
   "id": "b88a68f0",
   "metadata": {},
   "outputs": [
    {
     "data": {
      "text/plain": [
       "'2.00'"
      ]
     },
     "execution_count": 17,
     "metadata": {},
     "output_type": "execute_result"
    }
   ],
   "source": [
    "start = time()\n",
    "sleep(2)\n",
    "f\"{time() - start:.2f}\""
   ]
  },
  {
   "cell_type": "code",
   "execution_count": 14,
   "id": "24aac389",
   "metadata": {},
   "outputs": [
    {
     "data": {
      "text/plain": [
       "12.971199035644531"
      ]
     },
     "execution_count": 14,
     "metadata": {},
     "output_type": "execute_result"
    }
   ],
   "source": [
    "time.time() - start"
   ]
  },
  {
   "cell_type": "code",
   "execution_count": null,
   "id": "491bb681",
   "metadata": {},
   "outputs": [],
   "source": []
  },
  {
   "cell_type": "markdown",
   "id": "1a85d608",
   "metadata": {},
   "source": [
    "### random"
   ]
  },
  {
   "cell_type": "code",
   "execution_count": 7,
   "id": "8c91cfda",
   "metadata": {},
   "outputs": [],
   "source": [
    "# don't do this:\n",
    "from random import *"
   ]
  },
  {
   "cell_type": "code",
   "execution_count": 19,
   "id": "9633e208",
   "metadata": {},
   "outputs": [],
   "source": [
    "import random"
   ]
  },
  {
   "cell_type": "code",
   "execution_count": null,
   "id": "d8e1495e",
   "metadata": {},
   "outputs": [],
   "source": [
    "help(random)"
   ]
  },
  {
   "cell_type": "code",
   "execution_count": 24,
   "id": "6a709ca8",
   "metadata": {},
   "outputs": [
    {
     "data": {
      "text/plain": [
       "-0.08190244795488272"
      ]
     },
     "execution_count": 24,
     "metadata": {},
     "output_type": "execute_result"
    }
   ],
   "source": [
    "random.normalvariate(0,1)"
   ]
  },
  {
   "cell_type": "code",
   "execution_count": 28,
   "id": "cc52939b",
   "metadata": {},
   "outputs": [
    {
     "data": {
      "text/plain": [
       "0.8125255400104868"
      ]
     },
     "execution_count": 28,
     "metadata": {},
     "output_type": "execute_result"
    }
   ],
   "source": [
    "random.random()"
   ]
  },
  {
   "cell_type": "code",
   "execution_count": 35,
   "id": "9222e983",
   "metadata": {},
   "outputs": [
    {
     "data": {
      "text/plain": [
       "10"
      ]
     },
     "execution_count": 35,
     "metadata": {},
     "output_type": "execute_result"
    }
   ],
   "source": [
    "random.randint(1,10)"
   ]
  },
  {
   "cell_type": "code",
   "execution_count": 36,
   "id": "52fb6aa8",
   "metadata": {},
   "outputs": [
    {
     "data": {
      "text/plain": [
       "'8.01'"
      ]
     },
     "execution_count": 36,
     "metadata": {},
     "output_type": "execute_result"
    }
   ],
   "source": [
    "start = time()\n",
    "sleep(random.randint(1,10))\n",
    "f\"{time() - start:.2f}\""
   ]
  },
  {
   "cell_type": "code",
   "execution_count": 44,
   "id": "174bb810",
   "metadata": {},
   "outputs": [
    {
     "data": {
      "text/plain": [
       "'paper'"
      ]
     },
     "execution_count": 44,
     "metadata": {},
     "output_type": "execute_result"
    }
   ],
   "source": [
    "choices = ['rock', 'paper', 'scissors']\n",
    "random.choice(choices)"
   ]
  },
  {
   "cell_type": "code",
   "execution_count": 45,
   "id": "f698dc70",
   "metadata": {},
   "outputs": [
    {
     "data": {
      "text/plain": [
       "['paper', 'scissors']"
      ]
     },
     "execution_count": 45,
     "metadata": {},
     "output_type": "execute_result"
    }
   ],
   "source": [
    "random.sample(choices, 2)"
   ]
  },
  {
   "cell_type": "code",
   "execution_count": null,
   "id": "22c3522e",
   "metadata": {},
   "outputs": [],
   "source": []
  },
  {
   "cell_type": "code",
   "execution_count": null,
   "id": "1a19974d",
   "metadata": {},
   "outputs": [],
   "source": []
  },
  {
   "cell_type": "code",
   "execution_count": null,
   "id": "43658aca",
   "metadata": {},
   "outputs": [],
   "source": []
  },
  {
   "cell_type": "code",
   "execution_count": null,
   "id": "c2827611",
   "metadata": {},
   "outputs": [],
   "source": []
  },
  {
   "cell_type": "markdown",
   "id": "ec7843f8",
   "metadata": {},
   "source": [
    "### math\n",
    "* lots of esoteric mathy \"stuff\"\n",
    "* commonly used:\n",
    "    * ceil, e, exp, floor, log, log2, log10, sqrt, pi, tau!?"
   ]
  },
  {
   "cell_type": "code",
   "execution_count": 46,
   "id": "36c78cee",
   "metadata": {},
   "outputs": [],
   "source": [
    "import math"
   ]
  },
  {
   "cell_type": "code",
   "execution_count": null,
   "id": "46b86e86",
   "metadata": {},
   "outputs": [],
   "source": [
    "dir(math)"
   ]
  },
  {
   "cell_type": "code",
   "execution_count": 48,
   "id": "40fcf976",
   "metadata": {},
   "outputs": [
    {
     "data": {
      "text/plain": [
       "3.141592653589793"
      ]
     },
     "execution_count": 48,
     "metadata": {},
     "output_type": "execute_result"
    }
   ],
   "source": [
    "math.pi"
   ]
  },
  {
   "cell_type": "code",
   "execution_count": 49,
   "id": "c2ccf3b7",
   "metadata": {},
   "outputs": [
    {
     "data": {
      "text/plain": [
       "2.718281828459045"
      ]
     },
     "execution_count": 49,
     "metadata": {},
     "output_type": "execute_result"
    }
   ],
   "source": [
    "math.e"
   ]
  },
  {
   "cell_type": "code",
   "execution_count": 50,
   "id": "5152ea5b",
   "metadata": {},
   "outputs": [
    {
     "data": {
      "text/plain": [
       "2"
      ]
     },
     "execution_count": 50,
     "metadata": {},
     "output_type": "execute_result"
    }
   ],
   "source": [
    "5 // 2"
   ]
  },
  {
   "cell_type": "code",
   "execution_count": 51,
   "id": "bd7bb1aa",
   "metadata": {},
   "outputs": [
    {
     "data": {
      "text/plain": [
       "2"
      ]
     },
     "execution_count": 51,
     "metadata": {},
     "output_type": "execute_result"
    }
   ],
   "source": [
    "math.floor(5 / 2)"
   ]
  },
  {
   "cell_type": "code",
   "execution_count": 53,
   "id": "8a4b3dbe",
   "metadata": {},
   "outputs": [
    {
     "data": {
      "text/plain": [
       "3"
      ]
     },
     "execution_count": 53,
     "metadata": {},
     "output_type": "execute_result"
    }
   ],
   "source": [
    "math.ceil(5 / 2)"
   ]
  },
  {
   "cell_type": "code",
   "execution_count": 54,
   "id": "e5d381b0",
   "metadata": {},
   "outputs": [
    {
     "data": {
      "text/plain": [
       "2.0"
      ]
     },
     "execution_count": 54,
     "metadata": {},
     "output_type": "execute_result"
    }
   ],
   "source": [
    "math.sqrt(4)"
   ]
  },
  {
   "cell_type": "code",
   "execution_count": 1,
   "id": "22e38136",
   "metadata": {},
   "outputs": [],
   "source": [
    "rate = .043\n",
    "sigma = .18\n",
    "T = 21/252\n",
    "spy = 402.87"
   ]
  },
  {
   "cell_type": "code",
   "execution_count": 2,
   "id": "0a7b95e3",
   "metadata": {},
   "outputs": [],
   "source": [
    "from math import exp, sqrt\n",
    "from random import normalvariate as normal"
   ]
  },
  {
   "cell_type": "code",
   "execution_count": 3,
   "id": "5cd45c06",
   "metadata": {},
   "outputs": [
    {
     "data": {
      "text/plain": [
       "408.69569565303823"
      ]
     },
     "execution_count": 3,
     "metadata": {},
     "output_type": "execute_result"
    }
   ],
   "source": [
    "price = spy * exp((rate - .5 * sigma ** 2) * T + sigma * sqrt(T) * normal(0,1))\n",
    "price"
   ]
  },
  {
   "cell_type": "code",
   "execution_count": 4,
   "id": "1de84e9c",
   "metadata": {},
   "outputs": [],
   "source": [
    "ending_values = []\n",
    "for iteration in range(100000):\n",
    "    price = spy * exp((rate - .5 * sigma ** 2) * T + sigma * sqrt(T) * normal(0,1))\n",
    "    ending_values += [price]"
   ]
  },
  {
   "cell_type": "code",
   "execution_count": 58,
   "id": "f0257efc",
   "metadata": {},
   "outputs": [
    {
     "data": {
      "text/plain": [
       "2.0"
      ]
     },
     "execution_count": 58,
     "metadata": {},
     "output_type": "execute_result"
    }
   ],
   "source": [
    "math.log10(100)"
   ]
  },
  {
   "cell_type": "code",
   "execution_count": 60,
   "id": "34fe37d9",
   "metadata": {},
   "outputs": [
    {
     "data": {
      "text/plain": [
       "16.0"
      ]
     },
     "execution_count": 60,
     "metadata": {},
     "output_type": "execute_result"
    }
   ],
   "source": [
    "math.log2(65536)"
   ]
  },
  {
   "cell_type": "code",
   "execution_count": 5,
   "id": "d829d998",
   "metadata": {},
   "outputs": [
    {
     "data": {
      "text/plain": [
       "100000"
      ]
     },
     "execution_count": 5,
     "metadata": {},
     "output_type": "execute_result"
    }
   ],
   "source": [
    "len(ending_values)"
   ]
  },
  {
   "cell_type": "code",
   "execution_count": 8,
   "id": "d716cacc",
   "metadata": {},
   "outputs": [
    {
     "data": {
      "text/plain": [
       "495.7414257016428"
      ]
     },
     "execution_count": 8,
     "metadata": {},
     "output_type": "execute_result"
    }
   ],
   "source": [
    "max(ending_values)"
   ]
  },
  {
   "cell_type": "code",
   "execution_count": 9,
   "id": "2377be75",
   "metadata": {},
   "outputs": [
    {
     "data": {
      "text/plain": [
       "322.01392832407873"
      ]
     },
     "execution_count": 9,
     "metadata": {},
     "output_type": "execute_result"
    }
   ],
   "source": [
    "min(ending_values)"
   ]
  },
  {
   "cell_type": "code",
   "execution_count": 10,
   "id": "1890bf29",
   "metadata": {},
   "outputs": [
    {
     "data": {
      "text/plain": [
       "40423225.65113684"
      ]
     },
     "execution_count": 10,
     "metadata": {},
     "output_type": "execute_result"
    }
   ],
   "source": [
    "sum(ending_values)"
   ]
  },
  {
   "cell_type": "code",
   "execution_count": 12,
   "id": "a2050765",
   "metadata": {},
   "outputs": [],
   "source": [
    "avg =sum(ending_values) / len(ending_values)"
   ]
  },
  {
   "cell_type": "code",
   "execution_count": 20,
   "id": "119e83a1",
   "metadata": {},
   "outputs": [
    {
     "data": {
      "text/plain": [
       "21.06610283093439"
      ]
     },
     "execution_count": 20,
     "metadata": {},
     "output_type": "execute_result"
    }
   ],
   "source": [
    "SS = 0\n",
    "for value in ending_values:\n",
    "    SS += (value - avg) ** 2\n",
    "var = SS / (len(ending_values)-1)\n",
    "std = sqrt(var)\n",
    "std"
   ]
  },
  {
   "cell_type": "code",
   "execution_count": 21,
   "id": "d3264117",
   "metadata": {},
   "outputs": [
    {
     "data": {
      "text/plain": [
       "21.572637081075833"
      ]
     },
     "execution_count": 21,
     "metadata": {},
     "output_type": "execute_result"
    }
   ],
   "source": [
    "(ending_values[0] - avg) ** 2"
   ]
  },
  {
   "cell_type": "code",
   "execution_count": 32,
   "id": "74d81906",
   "metadata": {},
   "outputs": [
    {
     "data": {
      "text/plain": [
       "21.07"
      ]
     },
     "execution_count": 32,
     "metadata": {},
     "output_type": "execute_result"
    }
   ],
   "source": [
    "round(std, 2)"
   ]
  },
  {
   "cell_type": "code",
   "execution_count": 33,
   "id": "a404cede",
   "metadata": {},
   "outputs": [
    {
     "data": {
      "text/plain": [
       "'21.07'"
      ]
     },
     "execution_count": 33,
     "metadata": {},
     "output_type": "execute_result"
    }
   ],
   "source": [
    "f\"{std:.2f}\""
   ]
  },
  {
   "cell_type": "markdown",
   "id": "4adb214f",
   "metadata": {},
   "source": [
    "### [datetime](https://www.w3schools.com/python/python_datetime.asp)"
   ]
  },
  {
   "cell_type": "code",
   "execution_count": 22,
   "id": "642eff55",
   "metadata": {},
   "outputs": [],
   "source": [
    "import datetime as dt"
   ]
  },
  {
   "cell_type": "code",
   "execution_count": 23,
   "id": "ca59e77b",
   "metadata": {},
   "outputs": [
    {
     "data": {
      "text/plain": [
       "datetime.datetime(2023, 2, 1, 10, 6, 10, 580457)"
      ]
     },
     "execution_count": 23,
     "metadata": {},
     "output_type": "execute_result"
    }
   ],
   "source": [
    "dt.datetime.today()"
   ]
  },
  {
   "cell_type": "code",
   "execution_count": 25,
   "id": "66b112bf",
   "metadata": {},
   "outputs": [],
   "source": [
    "today = dt.date.today()"
   ]
  },
  {
   "cell_type": "code",
   "execution_count": 26,
   "id": "870026a6",
   "metadata": {},
   "outputs": [
    {
     "data": {
      "text/plain": [
       "datetime.date(2023, 3, 3)"
      ]
     },
     "execution_count": 26,
     "metadata": {},
     "output_type": "execute_result"
    }
   ],
   "source": [
    "today + dt.timedelta(30)"
   ]
  },
  {
   "cell_type": "code",
   "execution_count": 27,
   "id": "2a6f19ca",
   "metadata": {},
   "outputs": [
    {
     "name": "stdout",
     "output_type": "stream",
     "text": [
      "2023-02-01\n"
     ]
    }
   ],
   "source": [
    "print(today)"
   ]
  },
  {
   "cell_type": "code",
   "execution_count": 29,
   "id": "bf9fffe6",
   "metadata": {},
   "outputs": [
    {
     "data": {
      "text/plain": [
       "'Wednesday February 01, 2023'"
      ]
     },
     "execution_count": 29,
     "metadata": {},
     "output_type": "execute_result"
    }
   ],
   "source": [
    "# method\n",
    "today.strftime(\"%A %B %d, %Y\")"
   ]
  },
  {
   "cell_type": "code",
   "execution_count": 31,
   "id": "8cc92436",
   "metadata": {},
   "outputs": [
    {
     "data": {
      "text/plain": [
       "2"
      ]
     },
     "execution_count": 31,
     "metadata": {},
     "output_type": "execute_result"
    }
   ],
   "source": [
    "# properties\n",
    "today.month\n",
    "today.day\n",
    "today.year"
   ]
  },
  {
   "cell_type": "code",
   "execution_count": null,
   "id": "5a1f6dfc",
   "metadata": {},
   "outputs": [],
   "source": [
    "\n"
   ]
  },
  {
   "cell_type": "code",
   "execution_count": null,
   "id": "0aa88677",
   "metadata": {},
   "outputs": [],
   "source": []
  },
  {
   "cell_type": "code",
   "execution_count": null,
   "id": "50661d9f",
   "metadata": {},
   "outputs": [],
   "source": []
  },
  {
   "cell_type": "code",
   "execution_count": null,
   "id": "3e8ca6ac",
   "metadata": {},
   "outputs": [],
   "source": []
  },
  {
   "cell_type": "code",
   "execution_count": null,
   "id": "4b0b9e26",
   "metadata": {},
   "outputs": [],
   "source": []
  },
  {
   "cell_type": "code",
   "execution_count": null,
   "id": "12755e80",
   "metadata": {},
   "outputs": [],
   "source": []
  },
  {
   "cell_type": "code",
   "execution_count": null,
   "id": "760a2260",
   "metadata": {},
   "outputs": [],
   "source": []
  }
 ],
 "metadata": {
  "kernelspec": {
   "display_name": "Python 3 (ipykernel)",
   "language": "python",
   "name": "python3"
  },
  "language_info": {
   "codemirror_mode": {
    "name": "ipython",
    "version": 3
   },
   "file_extension": ".py",
   "mimetype": "text/x-python",
   "name": "python",
   "nbconvert_exporter": "python",
   "pygments_lexer": "ipython3",
   "version": "3.9.13"
  }
 },
 "nbformat": 4,
 "nbformat_minor": 5
}
