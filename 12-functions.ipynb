{
 "cells": [
  {
   "cell_type": "markdown",
   "id": "accompanied-wedding",
   "metadata": {},
   "source": [
    "# User Defined Functions\n",
    "* Allow for creation and management of larger programs\n",
    "* Allows for complexity to be separated from program flow\n",
    "* Can minmimize code redundency\n",
    "* Functions can be used to package scripts for use and reuse\n",
    "* Allow us to organize code more effectively\n",
    "* Types:\n",
    "    * no argument, no return value(s) (void)\n",
    "    * no argument, with return value(s)\n",
    "    * argument(s), no return value(s) (void)\n",
    "    * argument(s), with return value(s)\n",
    "* Technically, a function can only have one return value, but it can be a collection\n",
    "* Functions often used to encapsulate an important alogorithm"
   ]
  },
  {
   "cell_type": "code",
   "execution_count": null,
   "id": "monetary-plasma",
   "metadata": {},
   "outputs": [],
   "source": []
  },
  {
   "cell_type": "markdown",
   "id": "distinct-sweet",
   "metadata": {},
   "source": [
    "### Function Examples"
   ]
  },
  {
   "cell_type": "code",
   "execution_count": 13,
   "id": "happy-forestry",
   "metadata": {},
   "outputs": [],
   "source": [
    "# pass acts as a placeholder\n",
    "def some_algorithm():\n",
    "    #TODO write some algorithm\n",
    "    pass"
   ]
  },
  {
   "cell_type": "code",
   "execution_count": 10,
   "id": "southern-stable",
   "metadata": {},
   "outputs": [
    {
     "name": "stdout",
     "output_type": "stream",
     "text": [
      "None\n"
     ]
    }
   ],
   "source": [
    "# no argument, no return\n",
    "var = some_algorithm()\n",
    "print(var)"
   ]
  },
  {
   "cell_type": "code",
   "execution_count": 11,
   "id": "b2f37ff2",
   "metadata": {},
   "outputs": [],
   "source": [
    "def address():\n",
    "    print(\"Babson College\")\n",
    "    print(\"231 Forest St.\")\n",
    "    print(\"Babson Park, MA  02481\")"
   ]
  },
  {
   "cell_type": "code",
   "execution_count": 17,
   "id": "nutritional-surname",
   "metadata": {},
   "outputs": [
    {
     "name": "stdout",
     "output_type": "stream",
     "text": [
      "Babson College\n",
      "231 Forest St.\n",
      "Babson Park, MA  02481\n",
      "Babson College\n",
      "231 Forest St.\n",
      "Babson Park, MA  02481\n"
     ]
    }
   ],
   "source": [
    "address()\n",
    "\n",
    "address()"
   ]
  },
  {
   "cell_type": "code",
   "execution_count": 21,
   "id": "d35649e6",
   "metadata": {},
   "outputs": [
    {
     "data": {
      "text/plain": [
       "'Babson College\\n231 Forest St.\\nBabson Park, MA  02481'"
      ]
     },
     "execution_count": 21,
     "metadata": {},
     "output_type": "execute_result"
    }
   ],
   "source": [
    "# no argument, with return\n",
    "def address():\n",
    "    return \"Babson College\\n231 Forest St.\\nBabson Park, MA  02481\"\n",
    "babson = address()\n",
    "babson "
   ]
  },
  {
   "cell_type": "code",
   "execution_count": 22,
   "id": "coated-problem",
   "metadata": {},
   "outputs": [
    {
     "data": {
      "text/plain": [
       "1.4142135623730951"
      ]
     },
     "execution_count": 22,
     "metadata": {},
     "output_type": "execute_result"
    }
   ],
   "source": [
    "# Argument(s) and return\n",
    "def sqrt(number):\n",
    "    return number ** 0.5\n",
    "sq_2 = sqrt(2)"
   ]
  },
  {
   "cell_type": "code",
   "execution_count": 23,
   "id": "separate-franklin",
   "metadata": {},
   "outputs": [],
   "source": [
    "# documentation\n",
    "def sqrt(number):\n",
    "    \"\"\"Returns the sqrt of number\"\"\"\n",
    "    return number ** 0.5\n",
    "sq_2 = sqrt(2)\n"
   ]
  },
  {
   "cell_type": "code",
   "execution_count": 24,
   "id": "d9f4cebd",
   "metadata": {},
   "outputs": [
    {
     "name": "stdout",
     "output_type": "stream",
     "text": [
      "Help on function sqrt in module __main__:\n",
      "\n",
      "sqrt(number)\n",
      "    Returns the sqrt of number\n",
      "\n"
     ]
    }
   ],
   "source": [
    "help(sqrt)"
   ]
  },
  {
   "cell_type": "code",
   "execution_count": 25,
   "id": "f871ca60",
   "metadata": {},
   "outputs": [],
   "source": [
    "def thats_odd(number):\n",
    "    if number % 2:\n",
    "        return True\n",
    "    else:\n",
    "        return False"
   ]
  },
  {
   "cell_type": "code",
   "execution_count": 27,
   "id": "be9ad03d",
   "metadata": {},
   "outputs": [
    {
     "data": {
      "text/plain": [
       "False"
      ]
     },
     "execution_count": 27,
     "metadata": {},
     "output_type": "execute_result"
    }
   ],
   "source": [
    "thats_odd(2)"
   ]
  },
  {
   "cell_type": "code",
   "execution_count": null,
   "id": "39b20e3d",
   "metadata": {},
   "outputs": [],
   "source": []
  },
  {
   "cell_type": "markdown",
   "id": "convertible-morrison",
   "metadata": {},
   "source": [
    "### Optional arguments"
   ]
  },
  {
   "cell_type": "code",
   "execution_count": null,
   "id": "decimal-dover",
   "metadata": {},
   "outputs": [],
   "source": []
  },
  {
   "cell_type": "code",
   "execution_count": null,
   "id": "coordinate-prince",
   "metadata": {},
   "outputs": [],
   "source": []
  },
  {
   "cell_type": "markdown",
   "id": "elegant-ballot",
   "metadata": {},
   "source": [
    "### Boolean functions"
   ]
  },
  {
   "cell_type": "code",
   "execution_count": null,
   "id": "rural-southeast",
   "metadata": {},
   "outputs": [],
   "source": []
  },
  {
   "cell_type": "code",
   "execution_count": null,
   "id": "saving-beads",
   "metadata": {},
   "outputs": [],
   "source": []
  },
  {
   "cell_type": "markdown",
   "id": "disabled-japanese",
   "metadata": {},
   "source": [
    "### Algorithmic functions"
   ]
  },
  {
   "cell_type": "code",
   "execution_count": null,
   "id": "interstate-third",
   "metadata": {},
   "outputs": [],
   "source": []
  },
  {
   "cell_type": "code",
   "execution_count": null,
   "id": "elementary-convertible",
   "metadata": {},
   "outputs": [],
   "source": []
  },
  {
   "cell_type": "code",
   "execution_count": null,
   "id": "practical-playback",
   "metadata": {},
   "outputs": [],
   "source": []
  },
  {
   "cell_type": "code",
   "execution_count": null,
   "id": "ab82c496",
   "metadata": {},
   "outputs": [],
   "source": []
  },
  {
   "cell_type": "code",
   "execution_count": null,
   "id": "bbf2315c",
   "metadata": {},
   "outputs": [],
   "source": []
  },
  {
   "cell_type": "code",
   "execution_count": null,
   "id": "dff07a5d",
   "metadata": {},
   "outputs": [],
   "source": []
  },
  {
   "cell_type": "code",
   "execution_count": null,
   "id": "de011f57",
   "metadata": {},
   "outputs": [],
   "source": []
  },
  {
   "cell_type": "code",
   "execution_count": null,
   "id": "4749e0ad",
   "metadata": {},
   "outputs": [],
   "source": []
  },
  {
   "cell_type": "code",
   "execution_count": null,
   "id": "b7c0c045",
   "metadata": {},
   "outputs": [],
   "source": []
  },
  {
   "cell_type": "markdown",
   "id": "bb959ea4",
   "metadata": {},
   "source": [
    "### Variable Inputs (\\**args, ***kwargs)\n",
    "* allow for an unspecified number of inputs\n",
    "* args treats inputs as a tuple\n",
    "* kwargs treat as a dict\n",
    "* it's the * that matters not the name"
   ]
  },
  {
   "cell_type": "code",
   "execution_count": null,
   "id": "e9b9b1e2",
   "metadata": {},
   "outputs": [],
   "source": []
  },
  {
   "cell_type": "code",
   "execution_count": 18,
   "id": "d4e4b1f1",
   "metadata": {},
   "outputs": [],
   "source": [
    "a = 10\n",
    "b = 20\n",
    "c = 30"
   ]
  },
  {
   "cell_type": "code",
   "execution_count": null,
   "id": "88f83e6e",
   "metadata": {},
   "outputs": [],
   "source": []
  },
  {
   "cell_type": "code",
   "execution_count": null,
   "id": "5046f8e8",
   "metadata": {},
   "outputs": [],
   "source": []
  },
  {
   "cell_type": "code",
   "execution_count": null,
   "id": "f02e34c4",
   "metadata": {},
   "outputs": [],
   "source": []
  },
  {
   "cell_type": "code",
   "execution_count": null,
   "id": "e8b6b7ed",
   "metadata": {},
   "outputs": [],
   "source": []
  },
  {
   "cell_type": "code",
   "execution_count": null,
   "id": "8b37e4d4",
   "metadata": {},
   "outputs": [],
   "source": []
  },
  {
   "cell_type": "code",
   "execution_count": null,
   "id": "c379d314",
   "metadata": {},
   "outputs": [],
   "source": []
  },
  {
   "cell_type": "code",
   "execution_count": null,
   "id": "5f0e99eb",
   "metadata": {},
   "outputs": [],
   "source": []
  },
  {
   "cell_type": "code",
   "execution_count": null,
   "id": "739653d4",
   "metadata": {},
   "outputs": [],
   "source": []
  },
  {
   "cell_type": "code",
   "execution_count": null,
   "id": "16a4976e",
   "metadata": {},
   "outputs": [],
   "source": []
  },
  {
   "cell_type": "code",
   "execution_count": null,
   "id": "a8057757",
   "metadata": {},
   "outputs": [],
   "source": []
  },
  {
   "cell_type": "code",
   "execution_count": null,
   "id": "9464293d",
   "metadata": {},
   "outputs": [],
   "source": []
  },
  {
   "cell_type": "code",
   "execution_count": null,
   "id": "f5727ade",
   "metadata": {},
   "outputs": [],
   "source": []
  },
  {
   "cell_type": "code",
   "execution_count": null,
   "id": "fb4c3580",
   "metadata": {},
   "outputs": [],
   "source": []
  },
  {
   "cell_type": "code",
   "execution_count": null,
   "id": "ac03e103",
   "metadata": {},
   "outputs": [],
   "source": []
  },
  {
   "cell_type": "code",
   "execution_count": null,
   "id": "155695ff",
   "metadata": {},
   "outputs": [],
   "source": []
  },
  {
   "cell_type": "code",
   "execution_count": null,
   "id": "6c1b7df3",
   "metadata": {},
   "outputs": [],
   "source": []
  }
 ],
 "metadata": {
  "kernelspec": {
   "display_name": "Python 3 (ipykernel)",
   "language": "python",
   "name": "python3"
  },
  "language_info": {
   "codemirror_mode": {
    "name": "ipython",
    "version": 3
   },
   "file_extension": ".py",
   "mimetype": "text/x-python",
   "name": "python",
   "nbconvert_exporter": "python",
   "pygments_lexer": "ipython3",
   "version": "3.9.13"
  }
 },
 "nbformat": 4,
 "nbformat_minor": 5
}
