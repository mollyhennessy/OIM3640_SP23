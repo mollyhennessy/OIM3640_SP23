{
 "cells": [
  {
   "cell_type": "markdown",
   "id": "accompanied-wedding",
   "metadata": {},
   "source": [
    "# User Defined Functions\n",
    "* Allow for creation and management of larger programs\n",
    "* Allows for complexity to be separated from program flow\n",
    "* Can minmimize code redundency\n",
    "* Functions can be used to package scripts for use and reuse\n",
    "* Allow us to organize code more effectively\n",
    "* Types:\n",
    "    * no argument, no return value(s) (void)\n",
    "    * no argument, with return value(s)\n",
    "    * argument(s), no return value(s) (void)\n",
    "    * argument(s), with return value(s)\n",
    "* Technically, a function can only have one return value, but it can be a collection\n",
    "* Functions often used to encapsulate an important alogorithm"
   ]
  },
  {
   "cell_type": "code",
   "execution_count": null,
   "id": "monetary-plasma",
   "metadata": {},
   "outputs": [],
   "source": []
  },
  {
   "cell_type": "markdown",
   "id": "distinct-sweet",
   "metadata": {},
   "source": [
    "### Function Examples"
   ]
  },
  {
   "cell_type": "code",
   "execution_count": 13,
   "id": "happy-forestry",
   "metadata": {},
   "outputs": [],
   "source": [
    "# pass acts as a placeholder\n",
    "def some_algorithm():\n",
    "    #TODO write some algorithm\n",
    "    pass"
   ]
  },
  {
   "cell_type": "code",
   "execution_count": 10,
   "id": "southern-stable",
   "metadata": {},
   "outputs": [
    {
     "name": "stdout",
     "output_type": "stream",
     "text": [
      "None\n"
     ]
    }
   ],
   "source": [
    "# no argument, no return\n",
    "var = some_algorithm()\n",
    "print(var)"
   ]
  },
  {
   "cell_type": "code",
   "execution_count": 11,
   "id": "b2f37ff2",
   "metadata": {},
   "outputs": [],
   "source": [
    "def address():\n",
    "    print(\"Babson College\")\n",
    "    print(\"231 Forest St.\")\n",
    "    print(\"Babson Park, MA  02481\")"
   ]
  },
  {
   "cell_type": "code",
   "execution_count": 17,
   "id": "nutritional-surname",
   "metadata": {},
   "outputs": [
    {
     "name": "stdout",
     "output_type": "stream",
     "text": [
      "Babson College\n",
      "231 Forest St.\n",
      "Babson Park, MA  02481\n",
      "Babson College\n",
      "231 Forest St.\n",
      "Babson Park, MA  02481\n"
     ]
    }
   ],
   "source": [
    "address()\n",
    "\n",
    "address()"
   ]
  },
  {
   "cell_type": "code",
   "execution_count": 21,
   "id": "d35649e6",
   "metadata": {},
   "outputs": [
    {
     "data": {
      "text/plain": [
       "'Babson College\\n231 Forest St.\\nBabson Park, MA  02481'"
      ]
     },
     "execution_count": 21,
     "metadata": {},
     "output_type": "execute_result"
    }
   ],
   "source": [
    "# no argument, with return\n",
    "def address():\n",
    "    return \"Babson College\\n231 Forest St.\\nBabson Park, MA  02481\"\n",
    "babson = address()\n",
    "babson "
   ]
  },
  {
   "cell_type": "code",
   "execution_count": 22,
   "id": "coated-problem",
   "metadata": {},
   "outputs": [
    {
     "data": {
      "text/plain": [
       "1.4142135623730951"
      ]
     },
     "execution_count": 22,
     "metadata": {},
     "output_type": "execute_result"
    }
   ],
   "source": [
    "# Argument(s) and return\n",
    "def sqrt(number):\n",
    "    return number ** 0.5\n",
    "sq_2 = sqrt(2)"
   ]
  },
  {
   "cell_type": "code",
   "execution_count": 23,
   "id": "separate-franklin",
   "metadata": {},
   "outputs": [],
   "source": [
    "# documentation\n",
    "def sqrt(number):\n",
    "    \"\"\"Returns the sqrt of number\"\"\"\n",
    "    return number ** 0.5\n",
    "sq_2 = sqrt(2)\n"
   ]
  },
  {
   "cell_type": "code",
   "execution_count": 24,
   "id": "d9f4cebd",
   "metadata": {},
   "outputs": [
    {
     "name": "stdout",
     "output_type": "stream",
     "text": [
      "Help on function sqrt in module __main__:\n",
      "\n",
      "sqrt(number)\n",
      "    Returns the sqrt of number\n",
      "\n"
     ]
    }
   ],
   "source": [
    "help(sqrt)"
   ]
  },
  {
   "cell_type": "code",
   "execution_count": 25,
   "id": "f871ca60",
   "metadata": {},
   "outputs": [],
   "source": []
  },
  {
   "cell_type": "code",
   "execution_count": null,
   "id": "be9ad03d",
   "metadata": {},
   "outputs": [],
   "source": []
  },
  {
   "cell_type": "code",
   "execution_count": null,
   "id": "39b20e3d",
   "metadata": {},
   "outputs": [],
   "source": []
  },
  {
   "cell_type": "markdown",
   "id": "convertible-morrison",
   "metadata": {},
   "source": [
    "### Optional arguments"
   ]
  },
  {
   "cell_type": "code",
   "execution_count": 3,
   "id": "decimal-dover",
   "metadata": {},
   "outputs": [],
   "source": [
    "def square_or_cube(number, square=True):\n",
    "    if square:\n",
    "        return number ** 2\n",
    "    else:\n",
    "        return number ** 3"
   ]
  },
  {
   "cell_type": "code",
   "execution_count": 6,
   "id": "coordinate-prince",
   "metadata": {},
   "outputs": [
    {
     "data": {
      "text/plain": [
       "125"
      ]
     },
     "execution_count": 6,
     "metadata": {},
     "output_type": "execute_result"
    }
   ],
   "source": [
    "square_or_cube(5, square=False)"
   ]
  },
  {
   "cell_type": "code",
   "execution_count": 7,
   "id": "945b6ef3",
   "metadata": {},
   "outputs": [
    {
     "name": "stdout",
     "output_type": "stream",
     "text": [
      "Help on function square_or_cube in module __main__:\n",
      "\n",
      "square_or_cube(number, square=True)\n",
      "\n"
     ]
    }
   ],
   "source": [
    "help(square_or_cube)"
   ]
  },
  {
   "cell_type": "markdown",
   "id": "elegant-ballot",
   "metadata": {},
   "source": [
    "### Boolean functions"
   ]
  },
  {
   "cell_type": "code",
   "execution_count": 1,
   "id": "rural-southeast",
   "metadata": {},
   "outputs": [],
   "source": [
    "def thats_odd(number):\n",
    "    if number % 2:\n",
    "        return True\n",
    "    else:\n",
    "        return False"
   ]
  },
  {
   "cell_type": "code",
   "execution_count": 2,
   "id": "saving-beads",
   "metadata": {},
   "outputs": [
    {
     "data": {
      "text/plain": [
       "True"
      ]
     },
     "execution_count": 2,
     "metadata": {},
     "output_type": "execute_result"
    }
   ],
   "source": [
    "thats_odd(3)"
   ]
  },
  {
   "cell_type": "code",
   "execution_count": 12,
   "id": "e996f071",
   "metadata": {},
   "outputs": [
    {
     "data": {
      "text/plain": [
       "[1, 3, 5, 7, 9]"
      ]
     },
     "execution_count": 12,
     "metadata": {},
     "output_type": "execute_result"
    }
   ],
   "source": [
    "list(filter(thats_odd, range(1,11)))"
   ]
  },
  {
   "cell_type": "code",
   "execution_count": 9,
   "id": "babe407e",
   "metadata": {},
   "outputs": [
    {
     "data": {
      "text/plain": [
       "{1: 'one'}"
      ]
     },
     "execution_count": 9,
     "metadata": {},
     "output_type": "execute_result"
    }
   ],
   "source": []
  },
  {
   "cell_type": "code",
   "execution_count": null,
   "id": "aabd14f0",
   "metadata": {},
   "outputs": [],
   "source": []
  },
  {
   "cell_type": "markdown",
   "id": "disabled-japanese",
   "metadata": {},
   "source": [
    "### Algorithmic functions"
   ]
  },
  {
   "cell_type": "code",
   "execution_count": 13,
   "id": "interstate-third",
   "metadata": {},
   "outputs": [],
   "source": [
    "def adder(low, high):\n",
    "    total = 0\n",
    "    while low <= high:\n",
    "        total += low\n",
    "        low += 1\n",
    "    return total    "
   ]
  },
  {
   "cell_type": "code",
   "execution_count": 14,
   "id": "elementary-convertible",
   "metadata": {},
   "outputs": [
    {
     "data": {
      "text/plain": [
       "55"
      ]
     },
     "execution_count": 14,
     "metadata": {},
     "output_type": "execute_result"
    }
   ],
   "source": [
    "adder(1,10)"
   ]
  },
  {
   "cell_type": "code",
   "execution_count": 15,
   "id": "practical-playback",
   "metadata": {},
   "outputs": [
    {
     "data": {
      "text/plain": [
       "495550"
      ]
     },
     "execution_count": 15,
     "metadata": {},
     "output_type": "execute_result"
    }
   ],
   "source": [
    "adder(100,1000)"
   ]
  },
  {
   "cell_type": "code",
   "execution_count": 18,
   "id": "ab82c496",
   "metadata": {},
   "outputs": [
    {
     "data": {
      "text/plain": [
       "1000000000.0"
      ]
     },
     "execution_count": 18,
     "metadata": {},
     "output_type": "execute_result"
    }
   ],
   "source": [
    "# scientific notation\n",
    "1e9"
   ]
  },
  {
   "cell_type": "code",
   "execution_count": 21,
   "id": "bbf2315c",
   "metadata": {},
   "outputs": [
    {
     "name": "stdout",
     "output_type": "stream",
     "text": [
      "1\n",
      "2\n",
      "3\n",
      "4\n",
      "5\n",
      "6\n",
      "7\n",
      "8\n",
      "9\n"
     ]
    }
   ],
   "source": [
    "for num in range(1, int(1e1)):\n",
    "    print(num)"
   ]
  },
  {
   "cell_type": "code",
   "execution_count": 22,
   "id": "dff07a5d",
   "metadata": {},
   "outputs": [
    {
     "data": {
      "text/plain": [
       "1000000"
      ]
     },
     "execution_count": 22,
     "metadata": {},
     "output_type": "execute_result"
    }
   ],
   "source": [
    "1_000_000"
   ]
  },
  {
   "cell_type": "code",
   "execution_count": 5,
   "id": "de011f57",
   "metadata": {},
   "outputs": [],
   "source": [
    "def scientific(number):\n",
    "    exp = 0\n",
    "    science = number\n",
    "    while science >= 10:\n",
    "        science /= 10\n",
    "    while number >= 10:\n",
    "        number //= 10\n",
    "        exp += 1\n",
    "    return f\"{science:.2f}e{exp}\""
   ]
  },
  {
   "cell_type": "code",
   "execution_count": 10,
   "id": "4749e0ad",
   "metadata": {},
   "outputs": [
    {
     "data": {
      "text/plain": [
       "'1.87e9'"
      ]
     },
     "execution_count": 10,
     "metadata": {},
     "output_type": "execute_result"
    }
   ],
   "source": [
    "scientific(1867456000)"
   ]
  },
  {
   "cell_type": "code",
   "execution_count": null,
   "id": "b7c0c045",
   "metadata": {},
   "outputs": [],
   "source": []
  },
  {
   "cell_type": "markdown",
   "id": "bb959ea4",
   "metadata": {},
   "source": [
    "### Variable Inputs (\\**args, ***kwargs)\n",
    "* allow for an unspecified number of inputs\n",
    "* args treats inputs as a tuple\n",
    "* kwargs treat as a dict\n",
    "* it's the * that matters not the name"
   ]
  },
  {
   "cell_type": "code",
   "execution_count": null,
   "id": "be6ce43d",
   "metadata": {},
   "outputs": [],
   "source": [
    "def adds_up(*args):\n",
    "    total = 0\n",
    "    for value in values:\n",
    "        total += value\n",
    "    return total   "
   ]
  },
  {
   "cell_type": "code",
   "execution_count": 11,
   "id": "e9b9b1e2",
   "metadata": {},
   "outputs": [],
   "source": [
    "# both functions do the same thing\n",
    "def adds_up(*values):\n",
    "    total = 0\n",
    "    for value in values:\n",
    "        total += value\n",
    "    return total    "
   ]
  },
  {
   "cell_type": "code",
   "execution_count": 12,
   "id": "d4e4b1f1",
   "metadata": {},
   "outputs": [],
   "source": [
    "a = 10\n",
    "b = 20\n",
    "c = 30"
   ]
  },
  {
   "cell_type": "code",
   "execution_count": 15,
   "id": "88f83e6e",
   "metadata": {},
   "outputs": [
    {
     "data": {
      "text/plain": [
       "60"
      ]
     },
     "execution_count": 15,
     "metadata": {},
     "output_type": "execute_result"
    }
   ],
   "source": [
    "adds_up(a,b,c)"
   ]
  },
  {
   "cell_type": "code",
   "execution_count": 16,
   "id": "5046f8e8",
   "metadata": {},
   "outputs": [
    {
     "data": {
      "text/plain": [
       "[10, 20, 30, 40, 50, 60, 70, 80, 90]"
      ]
     },
     "execution_count": 16,
     "metadata": {},
     "output_type": "execute_result"
    }
   ],
   "source": [
    "numbers = list(range(10,100, 10))\n",
    "numbers"
   ]
  },
  {
   "cell_type": "code",
   "execution_count": 19,
   "id": "f02e34c4",
   "metadata": {},
   "outputs": [
    {
     "data": {
      "text/plain": [
       "460"
      ]
     },
     "execution_count": 19,
     "metadata": {},
     "output_type": "execute_result"
    }
   ],
   "source": [
    "adds_up(*numbers,10)"
   ]
  },
  {
   "cell_type": "code",
   "execution_count": 21,
   "id": "e8b6b7ed",
   "metadata": {},
   "outputs": [
    {
     "data": {
      "text/plain": [
       "10"
      ]
     },
     "execution_count": 21,
     "metadata": {},
     "output_type": "execute_result"
    }
   ],
   "source": [
    "adds_up(a)"
   ]
  },
  {
   "cell_type": "code",
   "execution_count": 22,
   "id": "8b37e4d4",
   "metadata": {},
   "outputs": [],
   "source": [
    "d = {'a':10, 'b': 20, 'c' : 30}"
   ]
  },
  {
   "cell_type": "code",
   "execution_count": 23,
   "id": "c379d314",
   "metadata": {},
   "outputs": [
    {
     "data": {
      "text/plain": [
       "{'a': 10, 'b': 20, 'c': 30}"
      ]
     },
     "execution_count": 23,
     "metadata": {},
     "output_type": "execute_result"
    }
   ],
   "source": [
    "d"
   ]
  },
  {
   "cell_type": "code",
   "execution_count": 24,
   "id": "5f0e99eb",
   "metadata": {},
   "outputs": [
    {
     "data": {
      "text/plain": [
       "dict_values([10, 20, 30])"
      ]
     },
     "execution_count": 24,
     "metadata": {},
     "output_type": "execute_result"
    }
   ],
   "source": [
    "d.values()"
   ]
  },
  {
   "cell_type": "code",
   "execution_count": 25,
   "id": "739653d4",
   "metadata": {},
   "outputs": [
    {
     "data": {
      "text/plain": [
       "60"
      ]
     },
     "execution_count": 25,
     "metadata": {},
     "output_type": "execute_result"
    }
   ],
   "source": [
    "adds_up(*d.values())"
   ]
  },
  {
   "cell_type": "code",
   "execution_count": 26,
   "id": "16a4976e",
   "metadata": {},
   "outputs": [
    {
     "data": {
      "text/plain": [
       "[10, 20, 30]"
      ]
     },
     "execution_count": 26,
     "metadata": {},
     "output_type": "execute_result"
    }
   ],
   "source": [
    "list(d.values())"
   ]
  },
  {
   "cell_type": "code",
   "execution_count": null,
   "id": "a8057757",
   "metadata": {},
   "outputs": [],
   "source": []
  },
  {
   "cell_type": "code",
   "execution_count": null,
   "id": "9464293d",
   "metadata": {},
   "outputs": [],
   "source": []
  },
  {
   "cell_type": "code",
   "execution_count": null,
   "id": "f5727ade",
   "metadata": {},
   "outputs": [],
   "source": []
  },
  {
   "cell_type": "code",
   "execution_count": null,
   "id": "fb4c3580",
   "metadata": {},
   "outputs": [],
   "source": []
  },
  {
   "cell_type": "code",
   "execution_count": null,
   "id": "ac03e103",
   "metadata": {},
   "outputs": [],
   "source": []
  },
  {
   "cell_type": "code",
   "execution_count": null,
   "id": "155695ff",
   "metadata": {},
   "outputs": [],
   "source": []
  },
  {
   "cell_type": "code",
   "execution_count": null,
   "id": "6c1b7df3",
   "metadata": {},
   "outputs": [],
   "source": []
  }
 ],
 "metadata": {
  "kernelspec": {
   "display_name": "Python 3 (ipykernel)",
   "language": "python",
   "name": "python3"
  },
  "language_info": {
   "codemirror_mode": {
    "name": "ipython",
    "version": 3
   },
   "file_extension": ".py",
   "mimetype": "text/x-python",
   "name": "python",
   "nbconvert_exporter": "python",
   "pygments_lexer": "ipython3",
   "version": "3.9.13"
  }
 },
 "nbformat": 4,
 "nbformat_minor": 5
}
