{
 "cells": [
  {
   "cell_type": "markdown",
   "metadata": {},
   "source": [
    "# Working with JSON\n",
    "* JSON is the preferred method to share data accross platforms\n",
    "* Many calls to web-based service return JSON\n",
    "* Dicts are very nearly JSON\n",
    "* Main methods are load, loads, dump dumps"
   ]
  },
  {
   "cell_type": "code",
   "execution_count": 15,
   "metadata": {},
   "outputs": [],
   "source": [
    "import json\n",
    "import requests"
   ]
  },
  {
   "cell_type": "code",
   "execution_count": 2,
   "metadata": {},
   "outputs": [],
   "source": [
    "accounts = {'accounts': [\n",
    "    {'account': 100, 'Name' : 'Smith', 'Balance' : 24.98},\n",
    "    {'account' : 200, 'Name' : 'Johnson', 'Balance' : 345.67},\n",
    "    {'account' : 300, 'Name' : 'Jones', 'Balance': 0.00}]}"
   ]
  },
  {
   "cell_type": "code",
   "execution_count": 6,
   "metadata": {},
   "outputs": [
    {
     "data": {
      "text/plain": [
       "dict"
      ]
     },
     "execution_count": 6,
     "metadata": {},
     "output_type": "execute_result"
    }
   ],
   "source": [
    "type(accounts)"
   ]
  },
  {
   "cell_type": "code",
   "execution_count": 8,
   "metadata": {},
   "outputs": [
    {
     "data": {
      "text/plain": [
       "list"
      ]
     },
     "execution_count": 8,
     "metadata": {},
     "output_type": "execute_result"
    }
   ],
   "source": [
    "type(accounts['accounts'])"
   ]
  },
  {
   "cell_type": "code",
   "execution_count": 11,
   "metadata": {},
   "outputs": [
    {
     "data": {
      "text/plain": [
       "{'account': 100, 'Name': 'Smith', 'Balance': 24.98}"
      ]
     },
     "execution_count": 11,
     "metadata": {},
     "output_type": "execute_result"
    }
   ],
   "source": [
    "accounts['accounts'][0]"
   ]
  },
  {
   "cell_type": "code",
   "execution_count": 28,
   "metadata": {},
   "outputs": [
    {
     "data": {
      "text/plain": [
       "dict"
      ]
     },
     "execution_count": 28,
     "metadata": {},
     "output_type": "execute_result"
    }
   ],
   "source": [
    "request = requests.get(\"http://dummyjson.com/carts\").json()\n",
    "type(request)"
   ]
  },
  {
   "cell_type": "code",
   "execution_count": 30,
   "metadata": {},
   "outputs": [
    {
     "data": {
      "text/plain": [
       "list"
      ]
     },
     "execution_count": 30,
     "metadata": {},
     "output_type": "execute_result"
    }
   ],
   "source": [
    "type(request['carts'])"
   ]
  },
  {
   "cell_type": "code",
   "execution_count": 33,
   "metadata": {},
   "outputs": [],
   "source": [
    "products = request['carts'][0]['products']"
   ]
  },
  {
   "cell_type": "code",
   "execution_count": 34,
   "metadata": {},
   "outputs": [
    {
     "name": "stdout",
     "output_type": "stream",
     "text": [
      "{'id': 59, 'title': 'Spring and summershoes', 'price': 20, 'quantity': 3, 'total': 60, 'discountPercentage': 8.71, 'discountedPrice': 55}\n",
      "{'id': 88, 'title': 'TC Reusable Silicone Magic Washing Gloves', 'price': 29, 'quantity': 2, 'total': 58, 'discountPercentage': 3.19, 'discountedPrice': 56}\n",
      "{'id': 18, 'title': 'Oil Free Moisturizer 100ml', 'price': 40, 'quantity': 2, 'total': 80, 'discountPercentage': 13.1, 'discountedPrice': 70}\n",
      "{'id': 95, 'title': 'Wholesale cargo lashing Belt', 'price': 930, 'quantity': 1, 'total': 930, 'discountPercentage': 17.67, 'discountedPrice': 766}\n",
      "{'id': 39, 'title': 'Women Sweaters Wool', 'price': 600, 'quantity': 2, 'total': 1200, 'discountPercentage': 17.2, 'discountedPrice': 994}\n"
     ]
    }
   ],
   "source": [
    "for product in range(len(products)):\n",
    "    print(products[product])"
   ]
  },
  {
   "cell_type": "code",
   "execution_count": null,
   "metadata": {},
   "outputs": [],
   "source": []
  },
  {
   "cell_type": "code",
   "execution_count": null,
   "metadata": {},
   "outputs": [],
   "source": []
  },
  {
   "cell_type": "code",
   "execution_count": null,
   "metadata": {},
   "outputs": [],
   "source": []
  },
  {
   "cell_type": "code",
   "execution_count": 1,
   "metadata": {},
   "outputs": [],
   "source": []
  },
  {
   "cell_type": "markdown",
   "metadata": {},
   "source": [
    "# csv module\n",
    "* Used for reading and writing to from csv files\n",
    "* Works equally well for any file extension\n",
    "* Works with the open function\n",
    "* Unlike the open function you can write numerical data\n",
    "* You have to be careful of poorly written csv, i.e. extra/missing commas\n",
    "* Reserved word next reads first line for use with headers"
   ]
  },
  {
   "cell_type": "code",
   "execution_count": 5,
   "metadata": {},
   "outputs": [],
   "source": [
    "import csv\n",
    "import yfinance as yf"
   ]
  },
  {
   "cell_type": "code",
   "execution_count": 6,
   "metadata": {},
   "outputs": [
    {
     "name": "stdout",
     "output_type": "stream",
     "text": [
      "[*********************100%***********************]  1 of 1 completed\n"
     ]
    }
   ],
   "source": [
    "data = yf.download(\"SPY\", \"2022-02-02\")\n",
    "data.drop(columns=['Adj Close'], inplace=True)"
   ]
  },
  {
   "cell_type": "code",
   "execution_count": 41,
   "metadata": {},
   "outputs": [],
   "source": [
    "data.to_csv('files/spy.csv')"
   ]
  },
  {
   "cell_type": "code",
   "execution_count": 35,
   "metadata": {},
   "outputs": [
    {
     "name": "stdout",
     "output_type": "stream",
     "text": [
      "['Date', 'Open', 'High', 'Low', 'Close', 'Volume']\n",
      "['2022-02-03', 450.95, 452.97, 445.71, 446.6, 118024400]\n"
     ]
    }
   ],
   "source": [
    "data = []\n",
    "with open('files/spy.csv', mode='r', newline='') as file:\n",
    "    reader = csv.reader(file, delimiter=',')\n",
    "    header = next(reader)\n",
    "    for row in reader:\n",
    "        row[0] = row[0][:10]\n",
    "        for column in range(1,5):    \n",
    "            row[column] = round(float(row[column]),2)\n",
    "        row[5] = int(row[5])    \n",
    "        data.append(row)\n",
    "print(header)\n",
    "print(data[1])"
   ]
  },
  {
   "cell_type": "code",
   "execution_count": 7,
   "metadata": {},
   "outputs": [
    {
     "data": {
      "text/html": [
       "<div>\n",
       "<style scoped>\n",
       "    .dataframe tbody tr th:only-of-type {\n",
       "        vertical-align: middle;\n",
       "    }\n",
       "\n",
       "    .dataframe tbody tr th {\n",
       "        vertical-align: top;\n",
       "    }\n",
       "\n",
       "    .dataframe thead th {\n",
       "        text-align: right;\n",
       "    }\n",
       "</style>\n",
       "<table border=\"1\" class=\"dataframe\">\n",
       "  <thead>\n",
       "    <tr style=\"text-align: right;\">\n",
       "      <th></th>\n",
       "      <th>Open</th>\n",
       "      <th>High</th>\n",
       "      <th>Low</th>\n",
       "      <th>Close</th>\n",
       "      <th>Volume</th>\n",
       "    </tr>\n",
       "    <tr>\n",
       "      <th>Date</th>\n",
       "      <th></th>\n",
       "      <th></th>\n",
       "      <th></th>\n",
       "      <th></th>\n",
       "      <th></th>\n",
       "    </tr>\n",
       "  </thead>\n",
       "  <tbody>\n",
       "    <tr>\n",
       "      <th>2022-02-02 00:00:00-05:00</th>\n",
       "      <td>455.500000</td>\n",
       "      <td>458.119995</td>\n",
       "      <td>453.049988</td>\n",
       "      <td>457.350006</td>\n",
       "      <td>117361000</td>\n",
       "    </tr>\n",
       "    <tr>\n",
       "      <th>2022-02-03 00:00:00-05:00</th>\n",
       "      <td>450.950012</td>\n",
       "      <td>452.970001</td>\n",
       "      <td>445.709991</td>\n",
       "      <td>446.600006</td>\n",
       "      <td>118024400</td>\n",
       "    </tr>\n",
       "    <tr>\n",
       "      <th>2022-02-04 00:00:00-05:00</th>\n",
       "      <td>446.350006</td>\n",
       "      <td>452.779999</td>\n",
       "      <td>443.829987</td>\n",
       "      <td>448.700012</td>\n",
       "      <td>118454400</td>\n",
       "    </tr>\n",
       "    <tr>\n",
       "      <th>2022-02-07 00:00:00-05:00</th>\n",
       "      <td>449.510010</td>\n",
       "      <td>450.989990</td>\n",
       "      <td>445.850006</td>\n",
       "      <td>447.260010</td>\n",
       "      <td>84472900</td>\n",
       "    </tr>\n",
       "    <tr>\n",
       "      <th>2022-02-08 00:00:00-05:00</th>\n",
       "      <td>446.730011</td>\n",
       "      <td>451.920013</td>\n",
       "      <td>445.220001</td>\n",
       "      <td>450.940002</td>\n",
       "      <td>81012000</td>\n",
       "    </tr>\n",
       "    <tr>\n",
       "      <th>...</th>\n",
       "      <td>...</td>\n",
       "      <td>...</td>\n",
       "      <td>...</td>\n",
       "      <td>...</td>\n",
       "      <td>...</td>\n",
       "    </tr>\n",
       "    <tr>\n",
       "      <th>2023-02-21 00:00:00-05:00</th>\n",
       "      <td>403.059998</td>\n",
       "      <td>404.160004</td>\n",
       "      <td>398.820007</td>\n",
       "      <td>399.089996</td>\n",
       "      <td>82655900</td>\n",
       "    </tr>\n",
       "    <tr>\n",
       "      <th>2023-02-22 00:00:00-05:00</th>\n",
       "      <td>399.519989</td>\n",
       "      <td>401.130005</td>\n",
       "      <td>397.019989</td>\n",
       "      <td>398.540009</td>\n",
       "      <td>83742300</td>\n",
       "    </tr>\n",
       "    <tr>\n",
       "      <th>2023-02-23 00:00:00-05:00</th>\n",
       "      <td>401.559998</td>\n",
       "      <td>402.200012</td>\n",
       "      <td>396.250000</td>\n",
       "      <td>400.660004</td>\n",
       "      <td>96242400</td>\n",
       "    </tr>\n",
       "    <tr>\n",
       "      <th>2023-02-24 00:00:00-05:00</th>\n",
       "      <td>395.420013</td>\n",
       "      <td>397.250000</td>\n",
       "      <td>393.640015</td>\n",
       "      <td>396.380005</td>\n",
       "      <td>108145900</td>\n",
       "    </tr>\n",
       "    <tr>\n",
       "      <th>2023-02-27 00:00:00-05:00</th>\n",
       "      <td>395.420013</td>\n",
       "      <td>400.029999</td>\n",
       "      <td>399.079987</td>\n",
       "      <td>399.320007</td>\n",
       "      <td>7639805</td>\n",
       "    </tr>\n",
       "  </tbody>\n",
       "</table>\n",
       "<p>268 rows × 5 columns</p>\n",
       "</div>"
      ],
      "text/plain": [
       "                                 Open        High         Low       Close  \\\n",
       "Date                                                                        \n",
       "2022-02-02 00:00:00-05:00  455.500000  458.119995  453.049988  457.350006   \n",
       "2022-02-03 00:00:00-05:00  450.950012  452.970001  445.709991  446.600006   \n",
       "2022-02-04 00:00:00-05:00  446.350006  452.779999  443.829987  448.700012   \n",
       "2022-02-07 00:00:00-05:00  449.510010  450.989990  445.850006  447.260010   \n",
       "2022-02-08 00:00:00-05:00  446.730011  451.920013  445.220001  450.940002   \n",
       "...                               ...         ...         ...         ...   \n",
       "2023-02-21 00:00:00-05:00  403.059998  404.160004  398.820007  399.089996   \n",
       "2023-02-22 00:00:00-05:00  399.519989  401.130005  397.019989  398.540009   \n",
       "2023-02-23 00:00:00-05:00  401.559998  402.200012  396.250000  400.660004   \n",
       "2023-02-24 00:00:00-05:00  395.420013  397.250000  393.640015  396.380005   \n",
       "2023-02-27 00:00:00-05:00  395.420013  400.029999  399.079987  399.320007   \n",
       "\n",
       "                              Volume  \n",
       "Date                                  \n",
       "2022-02-02 00:00:00-05:00  117361000  \n",
       "2022-02-03 00:00:00-05:00  118024400  \n",
       "2022-02-04 00:00:00-05:00  118454400  \n",
       "2022-02-07 00:00:00-05:00   84472900  \n",
       "2022-02-08 00:00:00-05:00   81012000  \n",
       "...                              ...  \n",
       "2023-02-21 00:00:00-05:00   82655900  \n",
       "2023-02-22 00:00:00-05:00   83742300  \n",
       "2023-02-23 00:00:00-05:00   96242400  \n",
       "2023-02-24 00:00:00-05:00  108145900  \n",
       "2023-02-27 00:00:00-05:00    7639805  \n",
       "\n",
       "[268 rows x 5 columns]"
      ]
     },
     "execution_count": 7,
     "metadata": {},
     "output_type": "execute_result"
    }
   ],
   "source": [
    "data"
   ]
  },
  {
   "cell_type": "markdown",
   "metadata": {},
   "source": [
    "### Databases"
   ]
  },
  {
   "cell_type": "code",
   "execution_count": 18,
   "metadata": {},
   "outputs": [],
   "source": [
    "import sqlite3"
   ]
  },
  {
   "cell_type": "code",
   "execution_count": 20,
   "metadata": {},
   "outputs": [],
   "source": [
    "connect = sqlite3.connect(\"files/demo.db\")\n",
    "cursor = connect.cursor()"
   ]
  },
  {
   "cell_type": "code",
   "execution_count": 30,
   "metadata": {},
   "outputs": [
    {
     "data": {
      "text/plain": [
       "<sqlite3.Cursor at 0x1e030c9e3b0>"
      ]
     },
     "execution_count": 30,
     "metadata": {},
     "output_type": "execute_result"
    }
   ],
   "source": [
    "# create table\n",
    "cursor.execute(\"DROP TABLE IF EXISTS data\")\n",
    "sql = \"\"\"CREATE TABLE data(\n",
    "\n",
    "            Date text,\n",
    "            Open real,\n",
    "            High real,\n",
    "            Low real,\n",
    "            Close real,\n",
    "            Volume)\"\"\"        \n",
    "\n",
    "cursor.execute(sql)\n",
    "\n",
    "\n"
   ]
  },
  {
   "cell_type": "code",
   "execution_count": 31,
   "metadata": {},
   "outputs": [],
   "source": [
    "data = [\"2022-02-01\", 450.68, 453.63, 446.94, 452.95, 123155400]\n",
    "sql = \"\"\"INSERT INTO data(Date, Open, High, Low, Close, Volume)\n",
    "         VALUES (?,?,?,?,?,?)\"\"\""
   ]
  },
  {
   "cell_type": "code",
   "execution_count": 32,
   "metadata": {},
   "outputs": [
    {
     "ename": "OperationalError",
     "evalue": "near \"(\": syntax error",
     "output_type": "error",
     "traceback": [
      "\u001b[1;31m---------------------------------------------------------------------------\u001b[0m",
      "\u001b[1;31mOperationalError\u001b[0m                          Traceback (most recent call last)",
      "\u001b[1;32m~\\AppData\\Local\\Temp\\ipykernel_31600\\2528076657.py\u001b[0m in \u001b[0;36m<module>\u001b[1;34m\u001b[0m\n\u001b[1;32m----> 1\u001b[1;33m \u001b[0mcursor\u001b[0m\u001b[1;33m.\u001b[0m\u001b[0mexecute\u001b[0m\u001b[1;33m(\u001b[0m\u001b[0msql\u001b[0m\u001b[1;33m,\u001b[0m\u001b[0mdata\u001b[0m\u001b[1;33m)\u001b[0m\u001b[1;33m\u001b[0m\u001b[1;33m\u001b[0m\u001b[0m\n\u001b[0m",
      "\u001b[1;31mOperationalError\u001b[0m: near \"(\": syntax error"
     ]
    }
   ],
   "source": [
    "cursor.execute(sql,data)"
   ]
  },
  {
   "cell_type": "code",
   "execution_count": 27,
   "metadata": {},
   "outputs": [
    {
     "data": {
      "text/plain": [
       "['2022-02-01', 450.68, 453.63, 446.94, 452.95, 123155400]"
      ]
     },
     "execution_count": 27,
     "metadata": {},
     "output_type": "execute_result"
    }
   ],
   "source": [
    "data"
   ]
  },
  {
   "cell_type": "code",
   "execution_count": 33,
   "metadata": {},
   "outputs": [],
   "source": [
    "sql = \"SELECT * FROM data\"\n",
    "result = cursor.execute(sql)\n",
    "result = cursor.fetchall()\n",
    "connect.close()"
   ]
  },
  {
   "cell_type": "code",
   "execution_count": 34,
   "metadata": {},
   "outputs": [
    {
     "name": "stdout",
     "output_type": "stream",
     "text": [
      "[('2022-02-01', 450.68, 453.63, 446.94, 452.95, 123155400)]\n"
     ]
    }
   ],
   "source": [
    "print(result)"
   ]
  },
  {
   "cell_type": "code",
   "execution_count": 36,
   "metadata": {},
   "outputs": [],
   "source": [
    "connect = sqlite3.connect(\"files/demo.db\")\n",
    "cursor = connect.cursor()\n",
    "sql = \"\"\"INSERT INTO data(Date, Open, High, Low, Close, Volume)\n",
    "         VALUES (?,?,?,?,?,?)\"\"\"\n",
    "\n",
    "cursor.executemany(sql, data)\n",
    "connect.commit()\n",
    "connect.close()"
   ]
  },
  {
   "cell_type": "code",
   "execution_count": 38,
   "metadata": {},
   "outputs": [
    {
     "data": {
      "text/plain": [
       "265"
      ]
     },
     "execution_count": 38,
     "metadata": {},
     "output_type": "execute_result"
    }
   ],
   "source": [
    "cursor.rowcount"
   ]
  },
  {
   "cell_type": "code",
   "execution_count": null,
   "metadata": {},
   "outputs": [],
   "source": []
  },
  {
   "cell_type": "code",
   "execution_count": null,
   "metadata": {},
   "outputs": [],
   "source": []
  },
  {
   "cell_type": "code",
   "execution_count": null,
   "metadata": {},
   "outputs": [],
   "source": []
  },
  {
   "cell_type": "code",
   "execution_count": null,
   "metadata": {},
   "outputs": [],
   "source": []
  },
  {
   "cell_type": "code",
   "execution_count": null,
   "metadata": {},
   "outputs": [],
   "source": []
  }
 ],
 "metadata": {
  "kernelspec": {
   "display_name": "Python 3 (ipykernel)",
   "language": "python",
   "name": "python3"
  },
  "language_info": {
   "codemirror_mode": {
    "name": "ipython",
    "version": 3
   },
   "file_extension": ".py",
   "mimetype": "text/x-python",
   "name": "python",
   "nbconvert_exporter": "python",
   "pygments_lexer": "ipython3",
   "version": "3.9.13"
  }
 },
 "nbformat": 4,
 "nbformat_minor": 4
}
