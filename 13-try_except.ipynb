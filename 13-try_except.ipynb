{
 "cells": [
  {
   "cell_type": "markdown",
   "id": "7fcc5898",
   "metadata": {},
   "source": [
    "# Handling Exceptions\n",
    "* So far we have tested input with structures like if, and while\n",
    "* In addition Python has a structure meant to specifically trap errors\n",
    "* this allows programs to continue even after ancountering an error\n",
    "* Python hasa number of built-in Exception messages --> part of Exception class\n",
    "* You can also define your own exceptions"
   ]
  },
  {
   "cell_type": "code",
   "execution_count": null,
   "id": "145b1de0",
   "metadata": {},
   "outputs": [],
   "source": [
    "values = [(1, 2), ('5', 6), (5, 4), (0, 0)]\n",
    "for val1, val2 in values:\n",
    "    result = val1 / val2\n",
    "    print(result)"
   ]
  },
  {
   "cell_type": "code",
   "execution_count": null,
   "id": "516e1b1d",
   "metadata": {},
   "outputs": [],
   "source": []
  },
  {
   "cell_type": "code",
   "execution_count": 1,
   "id": "e4b73334",
   "metadata": {},
   "outputs": [],
   "source": [
    "# catch error and tell us what it is\n"
   ]
  },
  {
   "cell_type": "code",
   "execution_count": 2,
   "id": "8441196e",
   "metadata": {},
   "outputs": [],
   "source": [
    "# this one only catches Type and Zero division errors, anything else will cause crash\n"
   ]
  },
  {
   "cell_type": "code",
   "execution_count": null,
   "id": "575ba1de",
   "metadata": {},
   "outputs": [],
   "source": [
    "    "
   ]
  },
  {
   "cell_type": "code",
   "execution_count": null,
   "id": "fda99300",
   "metadata": {},
   "outputs": [],
   "source": []
  },
  {
   "cell_type": "code",
   "execution_count": null,
   "id": "bbd05177",
   "metadata": {},
   "outputs": [],
   "source": []
  },
  {
   "cell_type": "code",
   "execution_count": null,
   "id": "278691d0",
   "metadata": {},
   "outputs": [],
   "source": []
  }
 ],
 "metadata": {
  "kernelspec": {
   "display_name": "Python 3 (ipykernel)",
   "language": "python",
   "name": "python3"
  },
  "language_info": {
   "codemirror_mode": {
    "name": "ipython",
    "version": 3
   },
   "file_extension": ".py",
   "mimetype": "text/x-python",
   "name": "python",
   "nbconvert_exporter": "python",
   "pygments_lexer": "ipython3",
   "version": "3.9.13"
  }
 },
 "nbformat": 4,
 "nbformat_minor": 5
}
