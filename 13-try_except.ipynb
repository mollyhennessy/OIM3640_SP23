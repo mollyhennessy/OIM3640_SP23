{
 "cells": [
  {
   "cell_type": "markdown",
   "id": "7fcc5898",
   "metadata": {},
   "source": [
    "# Handling Exceptions\n",
    "* So far we have tested input with structures like if, and while\n",
    "* In addition Python has a structure meant to specifically trap errors\n",
    "* this allows programs to continue even after ancountering an error\n",
    "* Python hasa number of built-in Exception messages --> part of Exception class\n",
    "* You can also define your own exceptions"
   ]
  },
  {
   "cell_type": "code",
   "execution_count": 1,
   "id": "145b1de0",
   "metadata": {},
   "outputs": [
    {
     "name": "stdout",
     "output_type": "stream",
     "text": [
      "0.5\n"
     ]
    },
    {
     "ename": "TypeError",
     "evalue": "unsupported operand type(s) for /: 'str' and 'int'",
     "output_type": "error",
     "traceback": [
      "\u001b[1;31m---------------------------------------------------------------------------\u001b[0m",
      "\u001b[1;31mTypeError\u001b[0m                                 Traceback (most recent call last)",
      "\u001b[1;32m~\\AppData\\Local\\Temp\\ipykernel_18316\\67145840.py\u001b[0m in \u001b[0;36m<module>\u001b[1;34m\u001b[0m\n\u001b[0;32m      1\u001b[0m \u001b[0mvalues\u001b[0m \u001b[1;33m=\u001b[0m \u001b[1;33m[\u001b[0m\u001b[1;33m(\u001b[0m\u001b[1;36m1\u001b[0m\u001b[1;33m,\u001b[0m \u001b[1;36m2\u001b[0m\u001b[1;33m)\u001b[0m\u001b[1;33m,\u001b[0m \u001b[1;33m(\u001b[0m\u001b[1;34m'5'\u001b[0m\u001b[1;33m,\u001b[0m \u001b[1;36m6\u001b[0m\u001b[1;33m)\u001b[0m\u001b[1;33m,\u001b[0m \u001b[1;33m(\u001b[0m\u001b[1;36m5\u001b[0m\u001b[1;33m,\u001b[0m \u001b[1;36m4\u001b[0m\u001b[1;33m)\u001b[0m\u001b[1;33m,\u001b[0m \u001b[1;33m(\u001b[0m\u001b[1;36m0\u001b[0m\u001b[1;33m,\u001b[0m \u001b[1;36m0\u001b[0m\u001b[1;33m)\u001b[0m\u001b[1;33m]\u001b[0m\u001b[1;33m\u001b[0m\u001b[1;33m\u001b[0m\u001b[0m\n\u001b[0;32m      2\u001b[0m \u001b[1;32mfor\u001b[0m \u001b[0mval1\u001b[0m\u001b[1;33m,\u001b[0m \u001b[0mval2\u001b[0m \u001b[1;32min\u001b[0m \u001b[0mvalues\u001b[0m\u001b[1;33m:\u001b[0m\u001b[1;33m\u001b[0m\u001b[1;33m\u001b[0m\u001b[0m\n\u001b[1;32m----> 3\u001b[1;33m     \u001b[0mresult\u001b[0m \u001b[1;33m=\u001b[0m \u001b[0mval1\u001b[0m \u001b[1;33m/\u001b[0m \u001b[0mval2\u001b[0m\u001b[1;33m\u001b[0m\u001b[1;33m\u001b[0m\u001b[0m\n\u001b[0m\u001b[0;32m      4\u001b[0m     \u001b[0mprint\u001b[0m\u001b[1;33m(\u001b[0m\u001b[0mresult\u001b[0m\u001b[1;33m)\u001b[0m\u001b[1;33m\u001b[0m\u001b[1;33m\u001b[0m\u001b[0m\n",
      "\u001b[1;31mTypeError\u001b[0m: unsupported operand type(s) for /: 'str' and 'int'"
     ]
    }
   ],
   "source": [
    "values = [(1, 2), ('5', 6), (5, 4), (0, 0)]\n",
    "for val1, val2 in values:\n",
    "    result = val1 / val2\n",
    "    print(result)"
   ]
  },
  {
   "cell_type": "code",
   "execution_count": 4,
   "id": "516e1b1d",
   "metadata": {},
   "outputs": [
    {
     "name": "stdout",
     "output_type": "stream",
     "text": [
      "0.5\n",
      "5/6 does not compute\n",
      "1.25\n",
      "0/0 does not compute\n"
     ]
    }
   ],
   "source": [
    "values = [(1, 2), ('5', 6), (5, 4), (0, 0)]\n",
    "for val1, val2 in values:\n",
    "    try:\n",
    "        result = val1 / val2\n",
    "        print(result)\n",
    "    except:\n",
    "        print(f\"{val1}/{val2} does not compute\")"
   ]
  },
  {
   "cell_type": "code",
   "execution_count": 5,
   "id": "e4b73334",
   "metadata": {},
   "outputs": [
    {
     "name": "stdout",
     "output_type": "stream",
     "text": [
      "0.5\n",
      "unsupported operand type(s) for /: 'str' and 'int' - 5/6 does not compute\n",
      "1.25\n",
      "division by zero - 0/0 does not compute\n"
     ]
    }
   ],
   "source": [
    "# catch error and tell us what it is\n",
    "values = [(1, 2), ('5', 6), (5, 4), (0, 0)]\n",
    "for val1, val2 in values:\n",
    "    try:\n",
    "        result = val1 / val2\n",
    "        print(result)\n",
    "    except Exception as e:\n",
    "        print(f\"{e} - {val1}/{val2} does not compute\")\n"
   ]
  },
  {
   "cell_type": "code",
   "execution_count": 6,
   "id": "8441196e",
   "metadata": {},
   "outputs": [
    {
     "name": "stdout",
     "output_type": "stream",
     "text": [
      "0.5\n",
      "Can't divide strings and numbers\n",
      "1.25\n",
      "Can't divide by zero\n"
     ]
    }
   ],
   "source": [
    "# this one only catches Type and Zero division errors, anything else will cause crash\n",
    "values = [(1, 2), ('5', 6), (5, 4), (0, 0)]\n",
    "for val1, val2 in values:\n",
    "    try:\n",
    "        result = val1 / val2\n",
    "        print(result)\n",
    "    except ZeroDivisionError as e:\n",
    "        print(f\"Can't divide by zero\")\n",
    "    except TypeError as e:\n",
    "        print(f\"Can't divide strings and numbers\")\n",
    "    except Exception:\n",
    "        raise Exception"
   ]
  },
  {
   "cell_type": "code",
   "execution_count": 10,
   "id": "575ba1de",
   "metadata": {},
   "outputs": [
    {
     "name": "stdout",
     "output_type": "stream",
     "text": [
      "Enter a number: 1\n",
      "Enter another number: one\n",
      "Enter two numbers!\n",
      "This happens no matter what\n",
      "Enter a number: one\n",
      "Enter two numbers!\n",
      "This happens no matter what\n",
      "Enter a number: 1\n",
      "Enter another number: 2\n",
      "0.5\n",
      "This happens no matter what\n"
     ]
    }
   ],
   "source": [
    "while True:\n",
    "    try:\n",
    "        val1 = int(input(\"Enter a number: \"))\n",
    "        val2 = int(input(\"Enter another number: \"))\n",
    "        result  = val1 / val2\n",
    "    except ValueError:\n",
    "        print(\"Enter two numbers!\")\n",
    "    except ZeroDivisionError:\n",
    "        print(\"Can't divide by zero!\")\n",
    "    else:\n",
    "        print(result)\n",
    "        break\n",
    "    finally:\n",
    "        print(\"This happens no matter what\")\n",
    "        "
   ]
  },
  {
   "cell_type": "code",
   "execution_count": null,
   "id": "fda99300",
   "metadata": {},
   "outputs": [],
   "source": []
  },
  {
   "cell_type": "code",
   "execution_count": null,
   "id": "bbd05177",
   "metadata": {},
   "outputs": [],
   "source": []
  },
  {
   "cell_type": "code",
   "execution_count": null,
   "id": "278691d0",
   "metadata": {},
   "outputs": [],
   "source": []
  },
  {
   "cell_type": "code",
   "execution_count": null,
   "id": "f5c0f276",
   "metadata": {},
   "outputs": [],
   "source": []
  },
  {
   "cell_type": "code",
   "execution_count": null,
   "id": "168a3315",
   "metadata": {},
   "outputs": [],
   "source": []
  },
  {
   "cell_type": "code",
   "execution_count": null,
   "id": "cd9b734a",
   "metadata": {},
   "outputs": [],
   "source": []
  }
 ],
 "metadata": {
  "kernelspec": {
   "display_name": "Python 3 (ipykernel)",
   "language": "python",
   "name": "python3"
  },
  "language_info": {
   "codemirror_mode": {
    "name": "ipython",
    "version": 3
   },
   "file_extension": ".py",
   "mimetype": "text/x-python",
   "name": "python",
   "nbconvert_exporter": "python",
   "pygments_lexer": "ipython3",
   "version": "3.9.13"
  }
 },
 "nbformat": 4,
 "nbformat_minor": 5
}
