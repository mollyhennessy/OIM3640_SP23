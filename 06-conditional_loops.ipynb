{
 "cells": [
  {
   "cell_type": "markdown",
   "id": "7617a8c1",
   "metadata": {},
   "source": [
    "### while (conditional or game) loops\n",
    "* do something until something else is true\n",
    "* watch out for infinite loops\n",
    "* similar to if structures - the code may never run if cindition is not met"
   ]
  },
  {
   "cell_type": "code",
   "execution_count": null,
   "id": "966cb7e7",
   "metadata": {},
   "outputs": [],
   "source": [
    "# this is an infinite loop... don't run in notebook!\n",
    "while True:\n",
    "    print(\"I am not a broken record!\")"
   ]
  },
  {
   "cell_type": "code",
   "execution_count": 2,
   "id": "53dc0027",
   "metadata": {},
   "outputs": [
    {
     "name": "stdout",
     "output_type": "stream",
     "text": [
      "Enter a vowel: A\n",
      "Thank you!\n"
     ]
    }
   ],
   "source": [
    "letter = input(\"Enter a vowel: \")\n",
    "while letter.lower() not in 'aeiou':\n",
    "    letter = input(\"Enter a vowel: \")\n",
    "print(\"Thank you!\")    "
   ]
  },
  {
   "cell_type": "code",
   "execution_count": 3,
   "id": "cf31a7c7",
   "metadata": {},
   "outputs": [
    {
     "name": "stdout",
     "output_type": "stream",
     "text": [
      "Enter a vowel: s\n",
      "Enter a vowel: D\n",
      "Enter a vowel: f\n",
      "Enter a vowel: g\n",
      "Enter a vowel: h\n",
      "Enter a vowel: i\n",
      "Thank you!\n"
     ]
    }
   ],
   "source": [
    "while True:\n",
    "    letter = input(\"Enter a vowel: \").lower()\n",
    "    if letter in 'aeiou':\n",
    "        break\n",
    "print(\"Thank you!\")  "
   ]
  },
  {
   "cell_type": "code",
   "execution_count": 9,
   "id": "16474b19",
   "metadata": {},
   "outputs": [
    {
     "name": "stdout",
     "output_type": "stream",
     "text": [
      "Enter a number: 10\n",
      "Your number is 10, and it's between 1 and 10\n"
     ]
    }
   ],
   "source": [
    "number = 0\n",
    "while number <= 1 or number >= 11:\n",
    "    number = int(input(\"Enter a number: \"))\n",
    "print(f\"Your number is {number}, and it's between 1 and 10\")    \n",
    "\n",
    "\n"
   ]
  },
  {
   "cell_type": "code",
   "execution_count": null,
   "id": "7289b050",
   "metadata": {},
   "outputs": [],
   "source": [
    "number = 0 \n",
    "while number <= 0:\n",
    "    number = int(input(\"Enter a number \"))\n",
    "print(number)    "
   ]
  },
  {
   "cell_type": "code",
   "execution_count": null,
   "id": "21239760",
   "metadata": {},
   "outputs": [],
   "source": []
  },
  {
   "cell_type": "code",
   "execution_count": null,
   "id": "d307c2c7",
   "metadata": {},
   "outputs": [],
   "source": []
  },
  {
   "cell_type": "code",
   "execution_count": null,
   "id": "ec6ca418",
   "metadata": {},
   "outputs": [],
   "source": []
  },
  {
   "cell_type": "code",
   "execution_count": null,
   "id": "e7b6383c",
   "metadata": {},
   "outputs": [],
   "source": []
  }
 ],
 "metadata": {
  "kernelspec": {
   "display_name": "Python 3 (ipykernel)",
   "language": "python",
   "name": "python3"
  },
  "language_info": {
   "codemirror_mode": {
    "name": "ipython",
    "version": 3
   },
   "file_extension": ".py",
   "mimetype": "text/x-python",
   "name": "python",
   "nbconvert_exporter": "python",
   "pygments_lexer": "ipython3",
   "version": "3.9.13"
  }
 },
 "nbformat": 4,
 "nbformat_minor": 5
}
